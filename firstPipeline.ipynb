{
 "cells": [
  {
   "cell_type": "code",
   "execution_count": null,
   "metadata": {},
   "outputs": [],
   "source": [
    "import numpy as np \n",
    "import pandas as pd \n",
    "import os\n",
    "import matplotlib.pyplot as plt\n",
    "import matplotlib.image as mplimg"
   ]
  },
  {
   "cell_type": "code",
   "execution_count": null,
   "metadata": {},
   "outputs": [],
   "source": [
    "datadir = \"data/\""
   ]
  },
  {
   "cell_type": "code",
   "execution_count": null,
   "metadata": {},
   "outputs": [],
   "source": [
    "os.listdir(datadir)"
   ]
  },
  {
   "cell_type": "code",
   "execution_count": null,
   "metadata": {},
   "outputs": [],
   "source": [
    "train_df = pd.read_csv(datadir + \"train.csv\")\n",
    "train_df.head()"
   ]
  },
  {
   "cell_type": "code",
   "execution_count": null,
   "metadata": {},
   "outputs": [],
   "source": [
    "rows, cols = train_df.shape\n",
    "print(\"Entries: {}, columns: {}\".format(rows,cols))"
   ]
  },
  {
   "cell_type": "code",
   "execution_count": null,
   "metadata": {},
   "outputs": [],
   "source": [
    "num_classes = np.count_nonzero(np.unique(train_df.values[:,1]))\n",
    "num_classes"
   ]
  },
  {
   "cell_type": "code",
   "execution_count": null,
   "metadata": {},
   "outputs": [],
   "source": [
    "sortd = train_df.groupby(\"Id\").size().sort_values()\n",
    "sortd.tail()"
   ]
  },
  {
   "cell_type": "code",
   "execution_count": null,
   "metadata": {},
   "outputs": [],
   "source": [
    "import seaborn as sns\n",
    "\n",
    "sns.barplot(x=sortd.tail().keys(), y=sortd.tail().values)"
   ]
  },
  {
   "cell_type": "code",
   "execution_count": null,
   "metadata": {},
   "outputs": [],
   "source": [
    "#Class weighting\n",
    "cw = np.median(sortd.values)/sortd.values\n",
    "cw"
   ]
  },
  {
   "cell_type": "code",
   "execution_count": null,
   "metadata": {},
   "outputs": [],
   "source": [
    "sns.barplot(x=sortd.tail().keys(), y=cw[-5:]*sortd.tail().values)"
   ]
  },
  {
   "cell_type": "code",
   "execution_count": null,
   "metadata": {},
   "outputs": [],
   "source": [
    "from keras.applications.xception import Xception\n",
    "\n",
    "premodel = Xception(include_top=False, weights='imagenet', input_shape=(299, 299, 3), classes=num_classes)\n",
    "premodel.summary()"
   ]
  },
  {
   "cell_type": "code",
   "execution_count": null,
   "metadata": {},
   "outputs": [],
   "source": [
    "# for layer in premodel.layers[:5]:\n",
    "#     layer.trainable = False"
   ]
  },
  {
   "cell_type": "code",
   "execution_count": null,
   "metadata": {},
   "outputs": [],
   "source": [
    "from keras.layers.pooling import GlobalAveragePooling2D\n",
    "from keras.layers import Dense\n",
    "\n",
    "#Adding custom Layers \n",
    "# x = model.output\n",
    "# x = Flatten()(x)\n",
    "# x = Dense(1024, activation=\"relu\")(x)\n",
    "# x = Dropout(0.5)(x)\n",
    "# x = Dense(1024, activation=\"relu\")(x)\n",
    "# predictions = Dense(16, activation=\"softmax\")(x)\n",
    "\n",
    "x = premodel.output\n",
    "x = GlobalAveragePooling2D()(x)\n",
    "predictions = Dense(num_classes, activation=\"softmax\")(x)"
   ]
  },
  {
   "cell_type": "code",
   "execution_count": null,
   "metadata": {},
   "outputs": [],
   "source": [
    "from keras.models import Model\n",
    "\n",
    "model = Model(input = premodel.input, output = predictions)\n",
    "\n",
    "del(premodel)\n",
    "\n",
    "model.summary()"
   ]
  },
  {
   "cell_type": "code",
   "execution_count": null,
   "metadata": {},
   "outputs": [],
   "source": [
    "from keras import optimizers\n",
    "from metrics import dice_loss, dice\n",
    "\n",
    "learning_rate = 1e-3\n",
    "optimizer = optimizers.Adam(lr = learning_rate)\n",
    "metrics = ['accuracy']\n",
    "loss = 'categorical_crossentropy'\n",
    "# metrics = [dice]\n",
    "# loss = [dice_loss]\n",
    "\n",
    "model.compile(loss = loss, optimizer = optimizer, metrics=metrics)"
   ]
  },
  {
   "cell_type": "code",
   "execution_count": null,
   "metadata": {},
   "outputs": [],
   "source": [
    "from keras import callbacks\n",
    "\n",
    "loggername = \"a\"\n",
    "\n",
    "model_checkpoint = callbacks.ModelCheckpoint('weights/{}.hdf5'.format(loggername), monitor='loss', verbose=1, save_best_only=True, save_weights_only=True)\n",
    "reduce_lr = callbacks.ReduceLROnPlateau(monitor='loss', factor=0.5, patience = 3, verbose = 1, min_lr=1e-7)\n",
    "csv_logger = callbacks.CSVLogger('logs/{}.log'.format(loggername))\n",
    "early_stopper = callbacks.EarlyStopping(monitor='loss', min_delta = 0.01, patience = 5, verbose = 1)\n",
    "\n",
    "callbacks = [model_checkpoint, reduce_lr, csv_logger, early_stopper]"
   ]
  },
  {
   "cell_type": "code",
   "execution_count": null,
   "metadata": {},
   "outputs": [],
   "source": [
    "from keras.applications.xception import preprocess_input\n",
    "from keras.preprocessing import image\n",
    "\n",
    "def get_np_image(df, target_size=(299,299,3)):\n",
    "    \n",
    "    img = image.load_img(\"data/\"+\"train/\"+df, target_size=target_size)\n",
    "    x = image.img_to_array(img)\n",
    "    x = preprocess_input(x)\n",
    "    \n",
    "    return(x)"
   ]
  },
  {
   "cell_type": "code",
   "execution_count": null,
   "metadata": {},
   "outputs": [],
   "source": [
    "from sklearn.preprocessing import LabelEncoder\n",
    "from sklearn.preprocessing import OneHotEncoder\n",
    "\n",
    "def encode(y):\n",
    "    values = np.array(y)\n",
    "    label_encoder = LabelEncoder()\n",
    "    integer_encoded = label_encoder.fit_transform(values)\n",
    "\n",
    "    onehot_encoder = OneHotEncoder(sparse=False)\n",
    "    integer_encoded = integer_encoded.reshape(len(integer_encoded), 1)\n",
    "    onehot_encoded = onehot_encoder.fit_transform(integer_encoded)\n",
    "\n",
    "    return onehot_encoded.astype(np.int32), label_encoder"
   ]
  },
  {
   "cell_type": "code",
   "execution_count": null,
   "metadata": {},
   "outputs": [],
   "source": [
    "y_encoded, label_encoder = encode(train_df[\"Id\"])\n",
    "y_encoded.shape"
   ]
  },
  {
   "cell_type": "code",
   "execution_count": null,
   "metadata": {},
   "outputs": [],
   "source": [
    "x = get_np_image(df = train_df[\"Image\"][0], target_size=(299,299,3))\n",
    "x.shape"
   ]
  },
  {
   "cell_type": "code",
   "execution_count": null,
   "metadata": {},
   "outputs": [],
   "source": [
    "y = y_encoded[0]\n",
    "y.shape"
   ]
  },
  {
   "cell_type": "code",
   "execution_count": null,
   "metadata": {},
   "outputs": [],
   "source": [
    "# def generate_data(directory, batch_size):\n",
    "#     \"\"\"Replaces Keras' native ImageDataGenerator.\"\"\"\n",
    "#     i = 0\n",
    "#     file_list = os.listdir(directory)\n",
    "#     while True:\n",
    "#         image_batch = []\n",
    "#         for b in range(batch_size):\n",
    "#             if i == len(file_list):\n",
    "#                 i = 0\n",
    "#                 random.shuffle(file_list)\n",
    "#             sample = file_list[i]\n",
    "#             i += 1\n",
    "#             image = cv2.resize(cv2.imread(sample[0]), INPUT_SHAPE)\n",
    "#             image_batch.append((image.astype(float) - 128) / 128)\n",
    "\n",
    "#         yield np.array(image_batch)\n",
    "\n",
    "def custom_generator(df, y_encoded, target_size = (299,299,3), batch_size = 1, validation = False):\n",
    "    \n",
    "    i = 0\n",
    "    \n",
    "    while True:\n",
    "        \n",
    "        x_batch = []\n",
    "        y_batch = []\n",
    "                \n",
    "        for b in range(batch_size):\n",
    "            if i == len(df):\n",
    "                i = 0\n",
    "                \n",
    "            x = get_np_image(df = df[\"Image\"][i], target_size = target_size)\n",
    "            y = y_encoded[i]\n",
    "            \n",
    "            i += 1\n",
    "            \n",
    "            x_batch.append(x)\n",
    "            y_batch.append(y)\n",
    "            \n",
    "        yield (np.array(x_batch),np.array(y_batch))"
   ]
  },
  {
   "cell_type": "code",
   "execution_count": null,
   "metadata": {},
   "outputs": [],
   "source": [
    "batch_size = 4\n",
    "steps_per_epoch = len(train_df)//batch_size\n",
    "# validation_steps = len(train_df)//batch_size\n",
    "epochs = 100\n",
    "verbose = 2"
   ]
  },
  {
   "cell_type": "code",
   "execution_count": null,
   "metadata": {},
   "outputs": [],
   "source": [
    "train_gen = custom_generator(df=train_df, y_encoded=y_encoded, batch_size=batch_size)"
   ]
  },
  {
   "cell_type": "code",
   "execution_count": null,
   "metadata": {},
   "outputs": [],
   "source": [
    "history = model.fit_generator(\n",
    "    train_gen,\n",
    "    steps_per_epoch = steps_per_epoch,\n",
    "    class_weight = cw,\n",
    "    epochs = epochs,\n",
    "    verbose = verbose,\n",
    "    callbacks = callbacks\n",
    ")"
   ]
  }
 ],
 "metadata": {
  "kernelspec": {
   "display_name": "Python 3",
   "language": "python",
   "name": "python3"
  },
  "language_info": {
   "codemirror_mode": {
    "name": "ipython",
    "version": 3
   },
   "file_extension": ".py",
   "mimetype": "text/x-python",
   "name": "python",
   "nbconvert_exporter": "python",
   "pygments_lexer": "ipython3",
   "version": "3.6.5"
  }
 },
 "nbformat": 4,
 "nbformat_minor": 2
}
